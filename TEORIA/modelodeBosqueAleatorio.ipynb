{
 "cells": [
  {
   "cell_type": "markdown",
   "metadata": {},
   "source": [
    "# Bosque aleatorio\n",
    "\n",
    "Un clasificador de bosque aleatorio\n",
    "\n",
    "Un bosque aleatorio es un metaestimador que se ajusta a una serie de clasificadores de árbol de decisión en varias submuestras del conjunto de datos y utiliza el promedio para mejorar la precisión predictiva y controlar el sobreajuste. El tamaño de la submuestra se controla con el parámetro if (predeterminado), de lo contrario, se utiliza todo el conjunto de datos para crear cada árbol.max_samplex bootstrap=True"
   ]
  },
  {
   "cell_type": "markdown",
   "metadata": {},
   "source": []
  }
 ],
 "metadata": {
  "language_info": {
   "name": "python"
  }
 },
 "nbformat": 4,
 "nbformat_minor": 2
}
