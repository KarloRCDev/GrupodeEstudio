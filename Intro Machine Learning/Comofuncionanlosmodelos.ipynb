{
 "cells": [
  {
   "cell_type": "markdown",
   "metadata": {},
   "source": [
    "# Cómo funcionan los modelos\n",
    "\n",
    "El primer paso si eres nuevo en el aprendizaje automático."
   ]
  },
  {
   "cell_type": "markdown",
   "metadata": {},
   "source": [
    "### Introducción\n",
    "\n",
    "Comenzaremos con una descripción general de cómo funcionan los modelos de aprendizaje automático y cómo se utilizan. Esto puede parecer básico si ya ha realizado modelos estadísticos o aprendizaje automático. No se preocupe, pronto avanzaremos hacia la construcción de modelos potentes.\n",
    "\n",
    "Este curso le permitirá construir modelos a medida que avanza por el siguiente escenario:\n",
    "\n",
    "Tu primo ha ganado millones de dólares especulando con bienes raíces. Se ha ofrecido a convertirse en socio comercial suyo debido a su interés en la ciencia de datos. Él le proporcionará el dinero y usted le proporcionará modelos que predicen cuánto valen las distintas casas.\n",
    "\n",
    "Le preguntas a tu primo cómo predijo los valores inmobiliarios en el pasado y te dice que es sólo intuición. Pero más preguntas revelan que ha identificado patrones de precios de casas que ha visto en el pasado y que utiliza esos patrones para hacer predicciones para las nuevas casas que está considerando.\n",
    "\n",
    "El aprendizaje automático funciona de la misma manera. Comenzaremos con un modelo llamado Árbol de Decisión. Hay modelos más sofisticados que dan predicciones más precisas. Pero los árboles de decisión son fáciles de entender y son la base de algunos de los mejores modelos en ciencia de datos.\n",
    "\n",
    "Para simplificar, comenzaremos con el árbol de decisiones más simple posible."
   ]
  },
  {
   "cell_type": "markdown",
   "metadata": {},
   "source": [
    "            ¿La casa tiene más de dos dormitorios?\n",
    "                    /                   \\\n",
    "                NO                        SI\n",
    "                /                           \\\n",
    "    Precio Previsto: 178000             Precio Previsto: 188000"
   ]
  },
  {
   "cell_type": "markdown",
   "metadata": {},
   "source": [
    "Divide las casas en sólo dos categorías. El precio previsto para cualquier casa considerada es el precio promedio histórico de casas en la misma categoría.\n",
    "\n",
    "Usamos datos para decidir cómo dividir las casas en dos grupos y luego nuevamente para determinar el precio previsto en cada grupo. \n",
    "\n",
    "Este paso de capturar patrones a partir de datos se denomina ajuste o entrenamiento del modelo. \n",
    "\n",
    "Los datos utilizados para ajustar el modelo se denominan datos de entrenamiento.\n",
    "\n",
    "Los detalles de cómo se ajusta el modelo (por ejemplo, cómo dividir los datos) son lo suficientemente complejos como para guardarlos para más adelante. Una vez ajustado el modelo, puede aplicarlo a nuevos datos para predecir los precios de viviendas adicionales."
   ]
  },
  {
   "cell_type": "markdown",
   "metadata": {},
   "source": [
    "### Mejorando el árbol de decisiones\n",
    "\n",
    "¿Cuál de los siguientes dos árboles de decisión es más probable que resulte del ajuste de los datos de capacitación inmobiliaria?"
   ]
  },
  {
   "cell_type": "markdown",
   "metadata": {},
   "source": [
    "            Primer Arbol de Decisión                       Segundo Arbol de Decision\n",
    "        ¿La casa tiene más de dos dormitorios?         ¿La casa tiene más de dos dormitorios?\n",
    "        /                              \\                  /                              \\\n",
    "       No                              Si                No                              Si\n",
    "       /                                \\                /                                \\\n",
    "    178000                             188000         188000                             178000"
   ]
  },
  {
   "cell_type": "markdown",
   "metadata": {},
   "source": [
    "El árbol de decisión de la izquierda (árbol de decisión 1) probablemente tenga más sentido, porque capta la realidad de que las casas con más dormitorios tienden a venderse a precios más altos que las casas con menos dormitorios. La mayor deficiencia de este modelo es que no captura la mayoría de los factores que afectan el precio de la vivienda, como la cantidad de baños, el tamaño del lote, la ubicación, etc.\n",
    "\n",
    "Puede capturar más factores utilizando un árbol que tenga más \"divisiones\". Estos se llaman árboles \"más profundos\". Un árbol de decisión que también considere el tamaño total del lote de cada casa podría verse así:"
   ]
  },
  {
   "cell_type": "markdown",
   "metadata": {},
   "source": [
    "            ¿La casa tiene más de dos dormitorios?\n",
    "                    /                   \\\n",
    "                NO                        SI\n",
    "                /                           \\\n",
    "    Tamaño de lote > 8500               Tamaño de lote > 11500\n",
    "     /                   \\               /                   \\\n",
    "    NO                  SI             NO                   SI\n",
    "    /                     \\             /                   \\\n",
    "    146000              188000      170000                  233000"
   ]
  },
  {
   "cell_type": "markdown",
   "metadata": {},
   "source": [
    "Puedes predecir el precio de cualquier casa siguiendo el árbol de decisión, eligiendo siempre el camino correspondiente a las características de esa casa. El precio previsto de la casa se encuentra en la parte inferior del árbol. El punto en la parte inferior donde hacemos una predicción se llama hoja.\n",
    "\n",
    "Las divisiones y los valores en las hojas estarán determinados por los datos, por lo que es hora de que revises los datos con los que trabajarás."
   ]
  },
  {
   "cell_type": "markdown",
   "metadata": {},
   "source": []
  }
 ],
 "metadata": {
  "language_info": {
   "name": "python"
  }
 },
 "nbformat": 4,
 "nbformat_minor": 2
}
