{
 "cells": [
  {
   "cell_type": "markdown",
   "metadata": {},
   "source": [
    "# Fuga de datos\n",
    "Encuentre y solucione este problema que arruina su modelo de manera sutil."
   ]
  },
  {
   "cell_type": "markdown",
   "metadata": {},
   "source": [
    "En este tutorial, aprenderá qué es la fuga de datos y cómo prevenirla. Si no sabe cómo prevenirlo, aparecerán fugas con frecuencia y arruinarán sus modelos de maneras sutiles y peligrosas. Entonces, este es uno de los conceptos más importantes para los científicos de datos en ejercicio.\n",
    "\n",
    "### Introducción\n",
    "La fuga de datos (o fuga) ocurre cuando sus datos de entrenamiento contienen información sobre el objetivo, pero datos similares no estarán disponibles cuando el modelo se use para la predicción. Esto conduce a un alto rendimiento en el conjunto de entrenamiento (y posiblemente incluso en los datos de validación), pero el modelo tendrá un rendimiento deficiente en producción.\n",
    "\n",
    "En otras palabras, la fuga hace que un modelo parezca preciso hasta que se empieza a tomar decisiones con el modelo, y luego el modelo se vuelve muy inexacto.\n",
    "\n",
    "Hay dos tipos principales de fugas: fugas objetivo y contaminación de prueba de tren."
   ]
  },
  {
   "cell_type": "markdown",
   "metadata": {},
   "source": [
    "#### Fuga objetivo\n",
    "La fuga de objetivos se produce cuando sus predictores incluyen datos que no estarán disponibles en el momento de realizar las predicciones. Es importante pensar en la fuga de objetivos en términos del momento o el orden cronológico en que los datos están disponibles, no simplemente si una característica ayuda a hacer buenas predicciones.\n",
    "\n",
    "Un ejemplo será útil. Imagine que quiere predecir quién enfermará de neumonía. Las primeras filas de sus datos sin procesar se ven así:"
   ]
  },
  {
   "cell_type": "markdown",
   "metadata": {},
   "source": [
    "Las personas toman antibióticos después de contraer neumonía para recuperarse. Los datos sin procesar muestran una fuerte relación entre esas columnas, pero take_antibiotic_medicine se cambia con frecuencia después de que se determina el valor de got_pneumonia. Esta es una fuga de objetivo.\n",
    "\n",
    "El modelo vería que cualquiera que tenga un valor Falso para tomó_antibiótico_medicina no tenía neumonía. Dado que los datos de validación provienen de la misma fuente que los datos de entrenamiento, el patrón se repetirá en la validación y el modelo tendrá excelentes puntuaciones de validación (o validación cruzada).\n",
    "\n",
    "Pero el modelo será muy inexacto cuando se implemente posteriormente en el mundo real, porque incluso los pacientes que contraerán neumonía aún no habrán recibido antibióticos cuando necesitemos hacer predicciones sobre su salud futura.\n",
    "\n",
    "Para evitar este tipo de fuga de datos, se debe excluir cualquier variable actualizada (o creada) después de alcanzar el valor objetivo."
   ]
  },
  {
   "cell_type": "markdown",
   "metadata": {},
   "source": [
    "#### Contaminación de prueba de tren\n",
    "Se produce un tipo diferente de fuga cuando no se tiene cuidado de distinguir los datos de entrenamiento de los datos de validación.\n",
    "\n",
    "Recuerde que la validación pretende ser una medida de cómo funciona el modelo con datos que no ha considerado antes. Puede corromper este proceso de manera sutil si los datos de validación afectan el comportamiento de preprocesamiento. A esto a veces se le llama contaminación de prueba de tren.\n",
    "\n",
    "Por ejemplo, imagina que ejecutas un preprocesamiento (como ajustar un imputador para los valores faltantes) antes de llamar a train_test_split(). ¿El final resulto? Su modelo puede obtener buenas puntuaciones de validación, lo que le dará una gran confianza en él, pero tendrá un rendimiento deficiente cuando lo implemente para tomar decisiones.\n",
    "\n",
    "Después de todo, usted incorporó datos de la validación o los datos de prueba en la forma en que hace predicciones, por lo que pueden funcionar bien con esos datos en particular, incluso si no se pueden generalizar a datos nuevos. Este problema se vuelve aún más sutil (y más peligroso) cuando realiza ingeniería de funciones más compleja.\n",
    "\n",
    "Si su validación se basa en una división simple de prueba de tren, excluya los datos de validación de cualquier tipo de ajuste, incluido el ajuste de pasos de preprocesamiento. Esto es más fácil si utiliza canalizaciones de scikit-learn. Cuando se utiliza validación cruzada, es aún más importante que realice el preprocesamiento dentro del proceso."
   ]
  },
  {
   "cell_type": "markdown",
   "metadata": {},
   "source": [
    "### Ejemplo\n",
    "En este ejemplo, aprenderá una forma de detectar y eliminar fugas de objetivos.\n",
    "\n",
    "Usaremos un conjunto de datos sobre solicitudes de tarjetas de crédito y omitiremos el código de configuración de datos básicos. El resultado final es que la información sobre cada solicitud de tarjeta de crédito se almacena en un DataFrame X. Lo usaremos para predecir qué solicitudes fueron aceptadas en una Serie y."
   ]
  },
  {
   "cell_type": "code",
   "execution_count": 1,
   "metadata": {},
   "outputs": [
    {
     "name": "stdout",
     "output_type": "stream",
     "text": [
      "Number of rows in the dataset: 1319\n"
     ]
    },
    {
     "data": {
      "text/html": [
       "<div>\n",
       "<style scoped>\n",
       "    .dataframe tbody tr th:only-of-type {\n",
       "        vertical-align: middle;\n",
       "    }\n",
       "\n",
       "    .dataframe tbody tr th {\n",
       "        vertical-align: top;\n",
       "    }\n",
       "\n",
       "    .dataframe thead th {\n",
       "        text-align: right;\n",
       "    }\n",
       "</style>\n",
       "<table border=\"1\" class=\"dataframe\">\n",
       "  <thead>\n",
       "    <tr style=\"text-align: right;\">\n",
       "      <th></th>\n",
       "      <th>reports</th>\n",
       "      <th>age</th>\n",
       "      <th>income</th>\n",
       "      <th>share</th>\n",
       "      <th>expenditure</th>\n",
       "      <th>owner</th>\n",
       "      <th>selfemp</th>\n",
       "      <th>dependents</th>\n",
       "      <th>months</th>\n",
       "      <th>majorcards</th>\n",
       "      <th>active</th>\n",
       "    </tr>\n",
       "  </thead>\n",
       "  <tbody>\n",
       "    <tr>\n",
       "      <th>0</th>\n",
       "      <td>0</td>\n",
       "      <td>37.66667</td>\n",
       "      <td>4.5200</td>\n",
       "      <td>0.033270</td>\n",
       "      <td>124.983300</td>\n",
       "      <td>True</td>\n",
       "      <td>False</td>\n",
       "      <td>3</td>\n",
       "      <td>54</td>\n",
       "      <td>1</td>\n",
       "      <td>12</td>\n",
       "    </tr>\n",
       "    <tr>\n",
       "      <th>1</th>\n",
       "      <td>0</td>\n",
       "      <td>33.25000</td>\n",
       "      <td>2.4200</td>\n",
       "      <td>0.005217</td>\n",
       "      <td>9.854167</td>\n",
       "      <td>False</td>\n",
       "      <td>False</td>\n",
       "      <td>3</td>\n",
       "      <td>34</td>\n",
       "      <td>1</td>\n",
       "      <td>13</td>\n",
       "    </tr>\n",
       "    <tr>\n",
       "      <th>2</th>\n",
       "      <td>0</td>\n",
       "      <td>33.66667</td>\n",
       "      <td>4.5000</td>\n",
       "      <td>0.004156</td>\n",
       "      <td>15.000000</td>\n",
       "      <td>True</td>\n",
       "      <td>False</td>\n",
       "      <td>4</td>\n",
       "      <td>58</td>\n",
       "      <td>1</td>\n",
       "      <td>5</td>\n",
       "    </tr>\n",
       "    <tr>\n",
       "      <th>3</th>\n",
       "      <td>0</td>\n",
       "      <td>30.50000</td>\n",
       "      <td>2.5400</td>\n",
       "      <td>0.065214</td>\n",
       "      <td>137.869200</td>\n",
       "      <td>False</td>\n",
       "      <td>False</td>\n",
       "      <td>0</td>\n",
       "      <td>25</td>\n",
       "      <td>1</td>\n",
       "      <td>7</td>\n",
       "    </tr>\n",
       "    <tr>\n",
       "      <th>4</th>\n",
       "      <td>0</td>\n",
       "      <td>32.16667</td>\n",
       "      <td>9.7867</td>\n",
       "      <td>0.067051</td>\n",
       "      <td>546.503300</td>\n",
       "      <td>True</td>\n",
       "      <td>False</td>\n",
       "      <td>2</td>\n",
       "      <td>64</td>\n",
       "      <td>1</td>\n",
       "      <td>5</td>\n",
       "    </tr>\n",
       "  </tbody>\n",
       "</table>\n",
       "</div>"
      ],
      "text/plain": [
       "   reports       age  income     share  expenditure  owner  selfemp  \\\n",
       "0        0  37.66667  4.5200  0.033270   124.983300   True    False   \n",
       "1        0  33.25000  2.4200  0.005217     9.854167  False    False   \n",
       "2        0  33.66667  4.5000  0.004156    15.000000   True    False   \n",
       "3        0  30.50000  2.5400  0.065214   137.869200  False    False   \n",
       "4        0  32.16667  9.7867  0.067051   546.503300   True    False   \n",
       "\n",
       "   dependents  months  majorcards  active  \n",
       "0           3      54           1      12  \n",
       "1           3      34           1      13  \n",
       "2           4      58           1       5  \n",
       "3           0      25           1       7  \n",
       "4           2      64           1       5  "
      ]
     },
     "execution_count": 1,
     "metadata": {},
     "output_type": "execute_result"
    }
   ],
   "source": [
    "import pandas as pd\n",
    "\n",
    "# Read the data\n",
    "data = pd.read_csv('AER_credit_card_data.csv', \n",
    "                   true_values = ['yes'], false_values = ['no'])\n",
    "\n",
    "# Select target\n",
    "y = data.card\n",
    "\n",
    "# Select predictors\n",
    "X = data.drop(['card'], axis=1)\n",
    "\n",
    "print(\"Number of rows in the dataset:\", X.shape[0])\n",
    "X.head()"
   ]
  },
  {
   "cell_type": "markdown",
   "metadata": {},
   "source": [
    "Dado que se trata de un conjunto de datos pequeño, utilizaremos validación cruzada para garantizar medidas precisas de la calidad del modelo."
   ]
  },
  {
   "cell_type": "code",
   "execution_count": 2,
   "metadata": {},
   "outputs": [
    {
     "name": "stdout",
     "output_type": "stream",
     "text": [
      "Cross-validation accuracy: 0.979531\n"
     ]
    }
   ],
   "source": [
    "from sklearn.pipeline import make_pipeline\n",
    "from sklearn.ensemble import RandomForestClassifier\n",
    "from sklearn.model_selection import cross_val_score\n",
    "\n",
    "# Since there is no preprocessing, we don't need a pipeline (used anyway as best practice!)\n",
    "my_pipeline = make_pipeline(RandomForestClassifier(n_estimators=100))\n",
    "cv_scores = cross_val_score(my_pipeline, X, y, \n",
    "                            cv=5,\n",
    "                            scoring='accuracy')\n",
    "\n",
    "print(\"Cross-validation accuracy: %f\" % cv_scores.mean())"
   ]
  },
  {
   "cell_type": "markdown",
   "metadata": {},
   "source": [
    "Con experiencia, descubrirá que es muy raro encontrar modelos que sean precisos el 98% de las veces. Sucede, pero es bastante poco común como para que debamos inspeccionar los datos más de cerca para detectar fugas de objetivos.\n",
    "\n",
    "Aquí hay un resumen de los datos, que también puede encontrar en la pestaña de datos:\n",
    "\n",
    "tarjeta: 1 si se acepta la solicitud de tarjeta de crédito, 0 si no\n",
    "\n",
    "informes: Número de informes despectivos importantes\n",
    "\n",
    "edad: Edad n años más doceavos de año\n",
    "\n",
    "Ingresos: Ingresos anuales (divididos por 10,000)\n",
    "\n",
    "Participación: Relación entre el gasto mensual en tarjetas de crédito y los ingresos anuales.\n",
    "\n",
    "gasto: Gasto promedio mensual con tarjeta de crédito\n",
    "\n",
    "propietario: 1 si es propietario de la casa, 0 si alquila\n",
    "\n",
    "selfempl: 1 si trabaja por cuenta propia, 0 si no\n",
    "\n",
    "dependientes: 1 + número de dependientes\n",
    "\n",
    "meses: meses viviendo en la dirección actual\n",
    "\n",
    "majorcards: Número de tarjetas de crédito principales poseídas\n",
    "\n",
    "activo: Número de cuentas de crédito activas\n",
    "\n",
    "Algunas variables parecen sospechosas. Por ejemplo, ¿gasto significa gasto en esta tarjeta o en tarjetas utilizadas antes de presentar la solicitud?\n",
    "\n",
    "En este punto, las comparaciones de datos básicos pueden resultar muy útiles:"
   ]
  },
  {
   "cell_type": "code",
   "execution_count": 3,
   "metadata": {},
   "outputs": [
    {
     "name": "stdout",
     "output_type": "stream",
     "text": [
      "Fraction of those who did not receive a card and had no expenditures: 1.00\n",
      "Fraction of those who received a card and had no expenditures: 0.02\n"
     ]
    }
   ],
   "source": [
    "expenditures_cardholders = X.expenditure[y]\n",
    "expenditures_noncardholders = X.expenditure[~y]\n",
    "\n",
    "print('Fraction of those who did not receive a card and had no expenditures: %.2f' \\\n",
    "      %((expenditures_noncardholders == 0).mean()))\n",
    "print('Fraction of those who received a card and had no expenditures: %.2f' \\\n",
    "      %(( expenditures_cardholders == 0).mean()))"
   ]
  },
  {
   "cell_type": "markdown",
   "metadata": {},
   "source": [
    "Como se muestra arriba, todos los que no recibieron una tarjeta no tuvieron gastos, mientras que sólo el 2% de los que recibieron una tarjeta no tuvieron gastos. No es sorprendente que nuestro modelo pareciera tener una alta precisión. Pero este también parece ser un caso de fuga de objetivos, donde los gastos probablemente significan gastos en la tarjeta que solicitaron.\n",
    "\n",
    "Dado que la participación está parcialmente determinada por el gasto, también debería excluirse. Las variables activas y cartas principales son un poco menos claras, pero por la descripción suenan preocupantes. En la mayoría de las situaciones, es mejor prevenir que curar si no puedes localizar a las personas que crearon los datos para obtener más información.\n",
    "\n",
    "Ejecutaríamos un modelo sin fuga objetivo de la siguiente manera:"
   ]
  },
  {
   "cell_type": "code",
   "execution_count": 4,
   "metadata": {},
   "outputs": [
    {
     "name": "stdout",
     "output_type": "stream",
     "text": [
      "Cross-val accuracy: 0.833198\n"
     ]
    }
   ],
   "source": [
    "# Drop leaky predictors from dataset\n",
    "potential_leaks = ['expenditure', 'share', 'active', 'majorcards']\n",
    "X2 = X.drop(potential_leaks, axis=1)\n",
    "\n",
    "# Evaluate the model with leaky predictors removed\n",
    "cv_scores = cross_val_score(my_pipeline, X2, y, \n",
    "                            cv=5,\n",
    "                            scoring='accuracy')\n",
    "\n",
    "print(\"Cross-val accuracy: %f\" % cv_scores.mean())"
   ]
  },
  {
   "cell_type": "markdown",
   "metadata": {},
   "source": [
    "Esta precisión es bastante menor, lo que puede resultar decepcionante. Sin embargo, podemos esperar que sea correcto aproximadamente el 80% de las veces cuando se use en aplicaciones nuevas, mientras que el modelo con fugas probablemente funcionaría mucho peor que eso (a pesar de su puntuación aparente más alta en la validación cruzada)."
   ]
  },
  {
   "cell_type": "markdown",
   "metadata": {},
   "source": [
    "### Conclusión\n",
    "La fuga de datos puede suponer un error multimillonario en muchas aplicaciones de ciencia de datos. Una separación cuidadosa de los datos de capacitación y validación puede prevenir la contaminación de las pruebas de trenes, y las tuberías pueden ayudar a implementar esta separación. Asimismo, una combinación de precaución, sentido común y exploración de datos puede ayudar a identificar las fugas objetivo."
   ]
  },
  {
   "cell_type": "markdown",
   "metadata": {},
   "source": [
    "# EJERCICIOS"
   ]
  },
  {
   "cell_type": "markdown",
   "metadata": {},
   "source": [
    "### Paso 1: La ciencia de datos de los cordones de los zapatos\n",
    "\n",
    "Nike lo contrató como consultor de ciencia de datos para ayudarlos a ahorrar dinero en materiales de calzado. Su primera tarea es revisar un modelo que uno de sus empleados construyó para predecir cuántos cordones necesitarán cada mes. Las características del modelo de aprendizaje automático incluyen:\n",
    "\n",
    "El mes actual (enero, febrero, etc.)\n",
    "\n",
    "Gastos en publicidad en el mes anterior.\n",
    "\n",
    "Varias características macroeconómicas (como la tasa de desempleo) a principios del mes actual\n",
    "\n",
    "La cantidad de cuero que terminaron usando en el mes actual.\n",
    "\n",
    "Los resultados muestran que el modelo es casi perfectamente preciso si se incluye la característica sobre la cantidad de cuero que usaron. Pero es sólo moderadamente preciso si omite esa característica. Te das cuenta de que esto se debe a que la cantidad de cuero que utilizan es un indicador perfecto de cuántos zapatos producen, lo que a su vez te indica cuántos cordones necesitan.\n",
    "\n",
    "¿Cree que la característica de cuero usado constituye una fuente de fuga de datos? Si tu respuesta es \"depende\", ¿de qué depende?\n",
    "\n",
    "Después de haber pensado en su respuesta, compárela con la solución a continuación."
   ]
  },
  {
   "cell_type": "markdown",
   "metadata": {},
   "source": [
    "Esto es complicado y depende de los detalles de cómo se recopilan los datos (lo cual es común cuando se piensa en fugas). ¿Decidirías a principios de mes cuánto cuero se utilizará ese mes? Si es así, está bien. Pero si eso se determina durante el mes, no tendrás acceso a él cuando hagas la predicción. Si tiene una estimación al comienzo del mes y luego la cambia durante el mes, la cantidad real utilizada durante el mes no se puede utilizar como característica (porque causa fugas)."
   ]
  },
  {
   "cell_type": "markdown",
   "metadata": {},
   "source": [
    "### Paso 2: Devolución de los cordones\n",
    "Tienes una nueva idea. Podrías usar la cantidad de cuero que Nike pidió (en lugar de la cantidad que realmente usaron) hasta un mes determinado como predictor en tu modelo de cordones.\n",
    "\n",
    "¿Cambia esto su respuesta sobre si hay un problema de fuga? Si respondes \"depende\", ¿de qué depende?"
   ]
  },
  {
   "cell_type": "markdown",
   "metadata": {},
   "source": [
    "Esto podría estar bien, pero depende de si piden primero los cordones o el cuero. Si piden cordones primero, no sabrás cuánto cuero han pedido cuando predigas sus necesidades de cordones. Si piden cuero primero, tendrá ese número disponible cuando realice su pedido de cordones y todo estará bien."
   ]
  },
  {
   "cell_type": "markdown",
   "metadata": {},
   "source": [
    "Paso 3: ¿Hacerse rico con las criptomonedas?\n",
    "Le ahorraste tanto dinero a Nike que te dieron un bono. Felicidades.\n",
    "\n",
    "Su amigo, que también es científico de datos, dice que ha creado un modelo que le permitirá convertir su bonificación en millones de dólares. Específicamente, su modelo predice el precio de una nueva criptomoneda (como Bitcoin, pero más nueva) un día antes del momento de la predicción. Su plan es comprar la criptomoneda cada vez que el modelo diga que el precio de la moneda (en dólares) está a punto de subir.\n",
    "\n",
    "Las características más importantes de su modelo son:\n",
    "\n",
    "Precio actual de la moneda.\n",
    "\n",
    "Cantidad de moneda vendida en las últimas 24 horas\n",
    "\n",
    "Cambio en el precio de la moneda en las últimas 24 horas.\n",
    "\n",
    "Cambio en el precio de la moneda en la última hora.\n",
    "\n",
    "Número de tweets nuevos en las últimas 24 horas que mencionan la moneda\n",
    "\n",
    "El valor de la criptomoneda en dólares ha fluctuado hacia arriba y hacia abajo en más de $\n",
    "100 en el último año y, sin embargo, el error promedio de su modelo es inferior a $1. Dice que esto es una prueba de que su modelo es preciso y que usted debe invertir con él, comprando la moneda cada vez que el modelo diga que está a punto de subir.\n",
    "\n",
    "¿Tiene razón? Si hay un problema con su modelo, ¿cuál es?"
   ]
  },
  {
   "cell_type": "markdown",
   "metadata": {},
   "source": [
    "Aquí no hay ninguna fuente de fuga. Estas funciones deberían estar disponibles en el momento en que desee realizar una predicción y es poco probable que se cambien en los datos de entrenamiento después de que se determine el objetivo de predicción. Pero la forma en que describe la precisión puede ser engañosa si no se tiene cuidado. Si el precio se mueve gradualmente, el precio de hoy será un predictor preciso del precio de mañana, pero es posible que no le diga si es un buen momento para invertir. Por ejemplo, si es 100𝑡𝑜𝑑𝑎𝑦,𝑎𝑚𝑜𝑑𝑒𝑙𝑝𝑟𝑒𝑑𝑖𝑐𝑡𝑖𝑛𝑔𝑎𝑝𝑟𝑖𝑐𝑒 𝑜𝑓 100 mañana puede parecer exacto, incluso si no puede indicarle si el precio sube o baja con respecto al precio actual. Un mejor objetivo de predicción sería el cambio de precio durante el día siguiente. Si puede predecir consistentemente si el precio está a punto de subir o bajar (y en qué medida), es posible que tenga una oportunidad de inversión ganadora."
   ]
  },
  {
   "cell_type": "markdown",
   "metadata": {},
   "source": [
    "### Paso 4: Prevención de infecciones\n",
    "Una agencia que brinda atención médica quiere predecir qué pacientes de una cirugía poco común están en riesgo de infección, de modo que pueda alertar a las enfermeras para que tengan especial cuidado al realizar un seguimiento de esos pacientes.\n",
    "\n",
    "Quieres construir un modelo. Cada fila en el conjunto de datos de modelado será un único paciente que recibió la cirugía, y el objetivo de predicción será si contrajo una infección.\n",
    "\n",
    "Algunos cirujanos pueden realizar el procedimiento de una manera que aumente o reduzca el riesgo de infección. Pero, ¿cuál es la mejor manera de incorporar la información del cirujano al modelo?\n",
    "\n",
    "Tienes una idea inteligente.\n",
    "\n",
    "Tome todas las cirugías de cada cirujano y calcule la tasa de infección entre esos cirujanos.\n",
    "\n",
    "Para cada paciente en los datos, averigüe quién fue el cirujano e ingrese la tasa de infección promedio de ese cirujano como una característica.\n",
    "\n",
    "¿Esto plantea algún problema de fuga de objetivos? ¿Plantea algún problema de contaminación durante las pruebas de trenes?"
   ]
  },
  {
   "cell_type": "markdown",
   "metadata": {},
   "source": [
    "Esto plantea un riesgo tanto de fuga del objetivo como de contaminación del tren de prueba (aunque es posible que pueda evitar ambas cosas si tiene cuidado).\n",
    "\n",
    "Tiene una fuga objetivo si el resultado de un paciente determinado contribuye a la tasa de infección de su cirujano, que luego se vuelve a conectar al modelo de predicción para determinar si ese paciente se infecta. Puede evitar la fuga de objetivos si calcula la tasa de infección del cirujano utilizando solo las cirugías antes del paciente que estamos prediciendo. Calcular esto para cada cirugía en tus datos de entrenamiento puede ser un poco complicado.\n",
    "\n",
    "También tiene un problema de contaminación de la prueba del tren si lo calcula utilizando todas las cirugías realizadas por un cirujano, incluidas las del conjunto de prueba. El resultado sería que su modelo podría parecer muy preciso en el conjunto de prueba, incluso si no se generalizaría bien a nuevos pacientes una vez implementado el modelo. Esto sucedería porque la función de riesgo del cirujano tiene en cuenta los datos del conjunto de prueba. Existen conjuntos de pruebas para estimar cómo funcionará el modelo al ver nuevos datos. Entonces esta contaminación anula el propósito del equipo de prueba."
   ]
  },
  {
   "cell_type": "markdown",
   "metadata": {},
   "source": [
    "### Paso 5: Precios de la vivienda\n",
    "Construirás un modelo para predecir los precios de la vivienda. El modelo se implementará de forma continua para predecir el precio de una casa nueva cuando se agregue una descripción a un sitio web. Aquí hay cuatro características que podrían usarse como predictores.\n",
    "\n",
    "Tamaño de la casa (en metros cuadrados)\n",
    "\n",
    "Precio medio de venta de viviendas del mismo barrio\n",
    "\n",
    "Latitud y longitud de la casa.\n",
    "\n",
    "Si la casa tiene sótano\n",
    "\n",
    "Tienes datos históricos para entrenar y validar el modelo.\n",
    "¿Cuál de las características es más probable que sea una fuente de fuga?"
   ]
  },
  {
   "cell_type": "code",
   "execution_count": null,
   "metadata": {},
   "outputs": [],
   "source": [
    "# Fill in the line below with one of 1, 2, 3 or 4.\n",
    "potential_leakage_feature = 2"
   ]
  },
  {
   "cell_type": "markdown",
   "metadata": {},
   "source": [
    "2 es la fuente de la fuga objetivo. A continuación se muestra un análisis de cada característica:\n",
    "\n",
    "Es poco probable que el tamaño de una casa cambie después de su venta (aunque técnicamente es posible). Pero normalmente esto estará disponible cuando necesitemos hacer una predicción y los datos no se modificarán después de que se venda la casa. Entonces es bastante seguro.\n",
    "\n",
    "No conocemos las reglas para cuando esto se actualice. Si el campo se actualiza en los datos sin procesar después de que se vendió una casa y la venta de la casa se utiliza para calcular el promedio, esto constituye un caso de fuga objetivo. En un caso extremo, si sólo se vende una casa en el vecindario y es la casa que estamos tratando de predecir, entonces el promedio será exactamente igual al valor que estamos tratando de predecir. En general, para barrios con pocas ventas, el modelo funcionará muy bien con los datos de entrenamiento. Pero cuando aplica el modelo, la casa que está pronosticando aún no se habrá vendido, por lo que esta característica no funcionará igual que en los datos de entrenamiento.\n",
    "\n",
    "Estos no cambian y estarán disponibles en el momento en que queramos hacer una predicción. Así que aquí no hay riesgo de fuga de objetivos.\n",
    "\n",
    "Esto tampoco cambia y está disponible en el momento que queremos hacer una predicción. Así que aquí no hay riesgo de fuga de objetivos."
   ]
  },
  {
   "cell_type": "markdown",
   "metadata": {},
   "source": [
    "### Conclusión\n",
    "\n",
    "Las fugas son un problema difícil y sutil. Debería estar orgulloso si se dio cuenta de los problemas de estos ejemplos.\n",
    "\n",
    "Ahora tiene las herramientas para crear modelos de alta precisión y abordar los problemas prácticos más difíciles que surgen al aplicar estos modelos para resolver problemas reales.\n",
    "\n",
    "Todavía hay mucho espacio para desarrollar conocimientos y experiencia. Pruebe una competencia o consulte nuestros conjuntos de datos para practicar sus nuevas habilidades."
   ]
  },
  {
   "cell_type": "markdown",
   "metadata": {},
   "source": []
  }
 ],
 "metadata": {
  "kernelspec": {
   "display_name": "Python 3",
   "language": "python",
   "name": "python3"
  },
  "language_info": {
   "codemirror_mode": {
    "name": "ipython",
    "version": 3
   },
   "file_extension": ".py",
   "mimetype": "text/x-python",
   "name": "python",
   "nbconvert_exporter": "python",
   "pygments_lexer": "ipython3",
   "version": "3.10.4"
  }
 },
 "nbformat": 4,
 "nbformat_minor": 2
}
