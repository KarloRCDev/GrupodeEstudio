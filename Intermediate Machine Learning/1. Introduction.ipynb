{
 "cells": [
  {
   "cell_type": "markdown",
   "metadata": {},
   "source": [
    "# Introducción\n",
    "\n",
    "¡Bienvenido al curso de aprendizaje automático intermedio de Kaggle!\n",
    "\n",
    "Si tienes experiencia en aprendizaje automático y te gustaría aprender cómo mejorar rápidamente la calidad de tus modelos, ¡estás en el lugar correcto! En este curso, acelerará su experiencia en aprendizaje automático aprendiendo a:\n",
    "\n",
    ". Abordar los tipos de datos que a menudo se encuentran en conjuntos de datos del mundo real (valores faltantes, variables categóricas),\n",
    "\n",
    ". Diseñar canales para mejorar la calidad de su código de aprendizaje automático,\n",
    "\n",
    ". Utilizar técnicas avanzadas para la validación de modelos (validación cruzada),\n",
    "\n",
    ". Construir modelos de última generación que se utilizan ampliamente para ganar competencias de Kaggle (XGBoost), y\n",
    "\n",
    ". Evite errores comunes e importantes en la ciencia de datos (fugas).\n",
    "\n",
    "A lo largo del camino, aplicará sus conocimientos completando un ejercicio práctico con datos del mundo real para cada tema nuevo. Los ejercicios prácticos utilizan datos de la Competencia de precios de vivienda para usuarios de Kaggle Learn, donde utilizará 79 variables explicativas diferentes (como el tipo de techo, la cantidad de dormitorios y la cantidad de baños) para predecir los precios de las viviendas. ¡Medirás tu progreso enviando predicciones a esta competencia y observando cómo asciende tu posición en la clasificación!\n",
    "\n",
    "\n",
    "### Requisitos previos\n",
    "\n",
    "Está listo para este curso si ya ha creado un modelo de aprendizaje automático y está familiarizado con temas como la validación de modelos, el ajuste insuficiente y excesivo, y los bosques aleatorios.\n",
    "\n",
    "Si es completamente nuevo en el aprendizaje automático, consulte nuestro curso de Introducción al aprendizaje automático, que cubre todo lo que necesita para prepararse para este curso."
   ]
  },
  {
   "cell_type": "markdown",
   "metadata": {},
   "source": [
    "# Ejercicios"
   ]
  },
  {
   "cell_type": "markdown",
   "metadata": {},
   "source": [
    "Como calentamiento, revisará algunos fundamentos del aprendizaje automático y enviará sus resultados iniciales a una competencia de Kaggle.\n",
    "\n",
    "### Configuración\n",
    "\n",
    "Las preguntas a continuación le brindarán comentarios sobre su trabajo. Ejecute la siguiente celda para configurar el sistema de retroalimentación."
   ]
  },
  {
   "cell_type": "code",
   "execution_count": null,
   "metadata": {},
   "outputs": [],
   "source": [
    "# Set up code checking\n",
    "import os\n",
    "if not os.path.exists(\"../input/train.csv\"):\n",
    "    os.symlink(\"../input/home-data-for-ml-course/train.csv\", \"../input/train.csv\")  \n",
    "    os.symlink(\"../input/home-data-for-ml-course/test.csv\", \"../input/test.csv\")  \n",
    "from learntools.core import binder\n",
    "binder.bind(globals())\n",
    "from learntools.ml_intermediate.ex1 import *\n",
    "print(\"Setup Complete\")"
   ]
  },
  {
   "cell_type": "markdown",
   "metadata": {},
   "source": [
    "Trabajará con datos de la Competencia de precios de vivienda para usuarios de Kaggle Learn para predecir los precios de las viviendas en Iowa utilizando 79 variables explicativas que describen (casi) todos los aspectos de las viviendas."
   ]
  },
  {
   "cell_type": "markdown",
   "metadata": {},
   "source": [
    "Ejecute la siguiente celda de código sin cambios para cargar las funciones de entrenamiento y validación en X_train y X_valid, junto con los objetivos de predicción en y_train e y_valid. Las funciones de prueba se cargan en X_test. (Si necesita revisar características y objetivos de predicción, consulte este breve tutorial. Para leer sobre la validación de modelos, mire aquí. Alternativamente, si prefiere ver un curso completo para revisar todos estos temas, comience aquí. )"
   ]
  },
  {
   "cell_type": "code",
   "execution_count": null,
   "metadata": {},
   "outputs": [],
   "source": [
    "# Read the data\n",
    "X_full = pd.read_csv('../input/train.csv', index_col='Id')\n",
    "X_test_full = pd.read_csv('../input/test.csv', index_col='Id')\n",
    "\n",
    "# Obtain target and predictors\n",
    "y = X_full.SalePrice\n",
    "features = ['LotArea', 'YearBuilt', '1stFlrSF', '2ndFlrSF', 'FullBath', 'BedroomAbvGr', 'TotRmsAbvGrd']\n",
    "X = X_full[features].copy()\n",
    "X_test = X_test_full[features].copy()\n",
    "\n",
    "# Break off validation set from training data\n",
    "X_train, X_valid, y_train, y_valid = train_test_split(X, y, train_size=0.8, test_size=0.2,\n",
    "                                                      random_state=0)"
   ]
  },
  {
   "cell_type": "markdown",
   "metadata": {},
   "source": [
    "Utilice la siguiente celda para imprimir las primeras filas de los datos. Es una buena manera de obtener una descripción general de los datos que utilizará en su modelo de predicción de precios."
   ]
  },
  {
   "cell_type": "code",
   "execution_count": null,
   "metadata": {},
   "outputs": [],
   "source": [
    "X_train.head()"
   ]
  },
  {
   "cell_type": "markdown",
   "metadata": {},
   "source": [
    "La siguiente celda de código define cinco modelos de bosque aleatorios diferentes. Ejecute esta celda de código sin cambios. (Para revisar bosques aleatorios, mire aquí)."
   ]
  },
  {
   "cell_type": "code",
   "execution_count": null,
   "metadata": {},
   "outputs": [],
   "source": [
    "from sklearn.ensemble import RandomForestRegressor\n",
    "\n",
    "# Define the models\n",
    "model_1 = RandomForestRegressor(n_estimators=50, random_state=0)\n",
    "model_2 = RandomForestRegressor(n_estimators=100, random_state=0)\n",
    "model_3 = RandomForestRegressor(n_estimators=100, criterion='absolute_error', random_state=0)\n",
    "model_4 = RandomForestRegressor(n_estimators=200, min_samples_split=20, random_state=0)\n",
    "model_5 = RandomForestRegressor(n_estimators=100, max_depth=7, random_state=0)\n",
    "\n",
    "models = [model_1, model_2, model_3, model_4, model_5]"
   ]
  },
  {
   "cell_type": "markdown",
   "metadata": {},
   "source": [
    "Para seleccionar el mejor modelo de los cinco, definimos una función score_model() a continuación. Esta función devuelve el error absoluto medio (MAE) del conjunto de validación. Recuerde que el mejor modelo obtendrá el MAE más bajo. (Para revisar el error absoluto medio, consulte aquí).\n",
    "\n",
    "Ejecute la celda de código sin cambios."
   ]
  },
  {
   "cell_type": "code",
   "execution_count": null,
   "metadata": {},
   "outputs": [],
   "source": [
    "from sklearn.metrics import mean_absolute_error\n",
    "\n",
    "# Function for comparing different models\n",
    "def score_model(model, X_t=X_train, X_v=X_valid, y_t=y_train, y_v=y_valid):\n",
    "    model.fit(X_t, y_t)\n",
    "    preds = model.predict(X_v)\n",
    "    return mean_absolute_error(y_v, preds)\n",
    "\n",
    "for i in range(0, len(models)):\n",
    "    mae = score_model(models[i])\n",
    "    print(\"Model %d MAE: %d\" % (i+1, mae))"
   ]
  },
  {
   "cell_type": "markdown",
   "metadata": {},
   "source": [
    "### Paso 1: evaluar varios modelos\n",
    "\n",
    "Utilice los resultados anteriores para completar la línea a continuación. ¿Qué modelo es el mejor modelo? Su respuesta debe ser una de las siguientes: modelo_1, modelo_2, modelo_3, modelo_4 o modelo_5."
   ]
  },
  {
   "cell_type": "code",
   "execution_count": null,
   "metadata": {},
   "outputs": [],
   "source": [
    "# Fill in the best model\n",
    "best_model = model_3\n",
    "\n",
    "# Check your answer\n",
    "step_1.check()"
   ]
  },
  {
   "cell_type": "markdown",
   "metadata": {},
   "source": [
    "### Paso 2: generar predicciones de prueba\n",
    "\n",
    "Excelente. Sabe cómo evaluar qué hace que un modelo sea preciso. Ahora es el momento de pasar por el proceso de modelado y hacer predicciones. En la línea siguiente, cree un modelo de bosque aleatorio con el nombre de variable my_model."
   ]
  },
  {
   "cell_type": "code",
   "execution_count": null,
   "metadata": {},
   "outputs": [],
   "source": [
    "# Define a model\n",
    "my_model = best_model # Your code here\n",
    "\n",
    "# Check your answer\n",
    "step_2.check()"
   ]
  },
  {
   "cell_type": "markdown",
   "metadata": {},
   "source": [
    "Ejecute la siguiente celda de código sin cambios. El código ajusta el modelo a los datos de entrenamiento y validación y luego genera predicciones de prueba que se guardan en un archivo CSV. ¡Estas predicciones de prueba se pueden enviar directamente a la competencia!"
   ]
  },
  {
   "cell_type": "code",
   "execution_count": null,
   "metadata": {},
   "outputs": [],
   "source": [
    "# Fit the model to the training data\n",
    "my_model.fit(X, y)\n",
    "\n",
    "# Generate test predictions\n",
    "preds_test = my_model.predict(X_test)\n",
    "\n",
    "# Save predictions in format used for competition scoring\n",
    "output = pd.DataFrame({'Id': X_test.index,\n",
    "                       'SalePrice': preds_test})\n",
    "output.to_csv('submission.csv', index=False)"
   ]
  },
  {
   "cell_type": "markdown",
   "metadata": {},
   "source": []
  }
 ],
 "metadata": {
  "kernelspec": {
   "display_name": "Python 3",
   "language": "python",
   "name": "python3"
  },
  "language_info": {
   "name": "python",
   "version": "3.10.4"
  }
 },
 "nbformat": 4,
 "nbformat_minor": 2
}
